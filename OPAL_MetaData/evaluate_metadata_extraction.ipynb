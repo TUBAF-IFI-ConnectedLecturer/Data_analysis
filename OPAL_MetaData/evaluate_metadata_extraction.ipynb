{
 "cells": [
  {
   "cell_type": "markdown",
   "metadata": {},
   "source": [
    "# Mehrstufige Extraktion von Metadateninformationen aus sächsischen OER Inhalten\n",
    "\n",
    "Sebastian Zug, André Dietrich \n",
    "TU Bergakademie Freiberg, Institut für Informatik"
   ]
  },
  {
   "cell_type": "code",
   "execution_count": null,
   "metadata": {},
   "outputs": [],
   "source": [
    "import pandas as pd\n",
    "from pathlib import Path\n",
    "import difflib"
   ]
  },
  {
   "cell_type": "markdown",
   "metadata": {},
   "source": [
    "## 1. Schritt: Bewertung der Metadaten von OER Inhalten aus dem LMS OPAL"
   ]
  },
  {
   "cell_type": "code",
   "execution_count": null,
   "metadata": {},
   "outputs": [],
   "source": [
    "data_folder =  \"/mnt/9cd5c6a1-07f3-4580-be34-8d8dd9d6fe6d/Connected_Lecturers/Opal/raw/\"\n",
    "data_file_attribs = \"OPAL_files_attrib.p\"\n",
    "data_file_meta = \"OPAL_files_meta.p\""
   ]
  },
  {
   "cell_type": "code",
   "execution_count": null,
   "metadata": {},
   "outputs": [],
   "source": [
    "df_files = pd.read_pickle(Path(data_folder) / data_file_attribs)"
   ]
  },
  {
   "cell_type": "code",
   "execution_count": null,
   "metadata": {},
   "outputs": [],
   "source": [
    "def generateEmptinessStatistics(df):\n",
    "    df_empty = df.apply(lambda x: x == '').sum(axis=0).rename(\"count\").to_frame()\n",
    "    df_empty['empty_in_percent'] = df_empty / len(df)\n",
    "    return df_empty "
   ]
  },
  {
   "cell_type": "code",
   "execution_count": null,
   "metadata": {},
   "outputs": [],
   "source": [
    "generateEmptinessStatistics(df_files)"
   ]
  },
  {
   "cell_type": "markdown",
   "metadata": {},
   "source": [
    "Ok, wer sind die metainformationsspezifischen Vorbilder?"
   ]
  },
  {
   "cell_type": "code",
   "execution_count": null,
   "metadata": {},
   "outputs": [],
   "source": [
    "df_files[df_files[\"opal:creator\"]!=\"\"]['opal:creator'].value_counts().head(10)"
   ]
  },
  {
   "cell_type": "markdown",
   "metadata": {},
   "source": [
    "## Schritt 2: Traditionelle Aggregation der Metadaten\n",
    "\n",
    "Welche Dateitypen sind denn  in den OPAL OER Daten überhaupt vertreten?"
   ]
  },
  {
   "cell_type": "code",
   "execution_count": null,
   "metadata": {},
   "outputs": [],
   "source": [
    "df_files[\"pipe:file_type\"].value_counts().head(10)"
   ]
  },
  {
   "cell_type": "markdown",
   "metadata": {},
   "source": [
    "Im Rahmen der ersten Untersuchungsreihe fokussieren wir uns auf {`pdf`, `docx`, `pptx`, `xlsx`}. Ausgangspunkt war eine Stichprobenprüfung der Mediendateien, die keinerlei Metadaten enthielten."
   ]
  },
  {
   "cell_type": "code",
   "execution_count": null,
   "metadata": {},
   "outputs": [],
   "source": [
    "relevant_file_type = ['pdf', 'docx', 'pptx', 'xlsx']\n",
    "df_files[df_files[\"pipe:file_type\"].isin(relevant_file_type)][\"pipe:file_type\"].shape[0] / df_files.shape[0]"
   ]
  },
  {
   "cell_type": "markdown",
   "metadata": {},
   "source": [
    "Offenbar decken wir mit dieser Auswahl etwa 55 Prozent der in OPAL enthaltenen Dokumente ab. Für diese Datentypen existieren unterschiedliche Metadateninformationen, die in die Dateien eingebettet sind. \n",
    "\n",
    "![](https://redmondmag.com/articles/2019/02/25/~/media/ECG/redmondmag/Images/2019/02/0225red_metadata1.ashx)\n",
    "\n",
    "Ein Skript der CL Pipeline hat diese, sofern vorhanden, für uns ausgelesen ..."
   ]
  },
  {
   "cell_type": "code",
   "execution_count": null,
   "metadata": {},
   "outputs": [],
   "source": [
    "df_meta = pd.read_pickle(Path(data_folder) / data_file_meta)\n",
    "generateEmptinessStatistics(df_meta)"
   ]
  },
  {
   "cell_type": "markdown",
   "metadata": {},
   "source": [
    "Für 60 Prozent der Autoren können wir zumindest einen Vorschlage zum Namen machen? Das klingt schon mal vielversprechend. Lassen Sie uns die Metadaten der verschiedenen Quellen vergleichen, um die Qualitäten zu prüfen."
   ]
  },
  {
   "cell_type": "code",
   "execution_count": null,
   "metadata": {},
   "outputs": [],
   "source": [
    "# merge df_files and df_meta on \"opal:file_id\"\n",
    "df_merge = pd.merge(df_meta, df_files.drop(['pipe:file_type'], axis=1), on=\"pipe:ID\", how=\"left\")"
   ]
  },
  {
   "cell_type": "markdown",
   "metadata": {},
   "source": [
    "Schauen wir uns zunächst positiv Beispiel an, die aus beiden Quellen enthielten."
   ]
  },
  {
   "cell_type": "code",
   "execution_count": null,
   "metadata": {},
   "outputs": [],
   "source": [
    "df_merge[(df_merge[\"opal:creator\"]!=\"\") &  (df_merge[\"file:author\"]!=\"\")][[\"opal:creator\", \"file:author\"]].head(15)"
   ]
  },
  {
   "cell_type": "markdown",
   "metadata": {},
   "source": [
    "Und nun umgekehrt, helfen uns die aus den Dateien extrahierten Metadaten bei der Identifikation der Autoren? Das Bild ist durchwachsen ..."
   ]
  },
  {
   "cell_type": "code",
   "execution_count": null,
   "metadata": {},
   "outputs": [],
   "source": [
    "df_merge[(df_merge[\"opal:creator\"]==\"\") &  (df_merge[\"file:author\"]!=\"\")][[\"opal:creator\", \"file:author\"]].head(15)"
   ]
  },
  {
   "cell_type": "markdown",
   "metadata": {},
   "source": [
    "Wir brauchen einen weiteren Mechanismus der uns bei der Extraktion unterstützt! "
   ]
  },
  {
   "cell_type": "markdown",
   "metadata": {},
   "source": [
    "### Schritt 3: KI basierte Metadatenaggregation\n",
    "\n",
    "Die CL Pipeline wurde um ein weiteres Modul erweitert, dass aktuell ein llama3 LLM verwendet, um die Titel, Autoren und Keyworte zu extrahieren."
   ]
  },
  {
   "cell_type": "code",
   "execution_count": null,
   "metadata": {},
   "outputs": [],
   "source": [
    "data_file_aimeta = \"OPAL_ai_meta.p\"\n",
    "df_aimeta = pd.read_pickle(Path(data_folder) / data_file_aimeta)"
   ]
  },
  {
   "cell_type": "code",
   "execution_count": null,
   "metadata": {},
   "outputs": [],
   "source": [
    "df_aimeta.shape[0] / df_files[df_files[\"pipe:file_type\"].isin(relevant_file_type)][\"pipe:file_type\"].shape[0] "
   ]
  },
  {
   "cell_type": "markdown",
   "metadata": {},
   "source": [
    "Für etwa 90 Prozent der Office-Dateien und pdfs konnten entsprechende Informationen erschlossen werden. Die Frage ist, wie schlüssig diese Resultate sind. Fusionieren wir also alle Datensätze miteinander, um das zu untersuchen."
   ]
  },
  {
   "cell_type": "code",
   "execution_count": null,
   "metadata": {},
   "outputs": [],
   "source": [
    "df_merge_all = pd.merge(df_aimeta, df_merge.drop(['pipe:file_type'], axis=1), on=\"pipe:ID\", how=\"left\")\n",
    "df_merge_all.iloc[0]"
   ]
  },
  {
   "cell_type": "markdown",
   "metadata": {},
   "source": [
    "Schauen wir uns also zunächst die Datensätze an, die sowohl Metadaten aus OPAL mitbrachten, für die aber auch Daten generiert werden konnten."
   ]
  },
  {
   "cell_type": "code",
   "execution_count": null,
   "metadata": {},
   "outputs": [],
   "source": [
    "df_merge_all[ (df_merge_all[\"opal:creator\"]!=\"\") &\n",
    "             ((df_merge_all[\"file:author\"]!=\"\") | (df_merge_all[\"ai:author\"]!=\"\"))][[\"opal:creator\", \"file:author\", \"ai:author\", \"pipe:file_type\"]].tail(20)"
   ]
  },
  {
   "cell_type": "markdown",
   "metadata": {},
   "source": [
    "... und umgekehrt? Wo können `ai` und `file` zum Beispiel Lücken bei den Autoren füllen? "
   ]
  },
  {
   "cell_type": "code",
   "execution_count": null,
   "metadata": {},
   "outputs": [],
   "source": [
    "df_merge_all = df_merge_all[~df_merge_all['ai:author'].str.contains(\"Ich kann\")]"
   ]
  },
  {
   "cell_type": "code",
   "execution_count": null,
   "metadata": {},
   "outputs": [],
   "source": [
    "df_merge_all[ (df_merge_all[\"opal:creator\"]==\"\") &\n",
    "             ((df_merge_all[\"file:author\"]!=\"\") | (df_merge_all[\"ai:author\"]!=\"\"))][[\"file:author\", \"ai:author\", \"pipe:file_type\"]].tail(20)"
   ]
  },
  {
   "cell_type": "code",
   "execution_count": null,
   "metadata": {},
   "outputs": [],
   "source": [
    "A =df_merge_all[\n",
    "             ((df_merge_all[\"file:author\"]!=\"\") & (df_merge_all[\"ai:author\"]!=\"\"))][[\"file:author\", \"ai:author\", \"pipe:file_type\"]]"
   ]
  },
  {
   "cell_type": "code",
   "execution_count": null,
   "metadata": {},
   "outputs": [],
   "source": [
    "def check_substrings(row):\n",
    "    if row[\"file:author\"]!=\"\" and row[\"ai:author\"]!=\"\" and row[\"file:author\"]!=None and row[\"ai:author\"]!=None:\n",
    "        input_a = row[\"file:author\"]\n",
    "        input_b = row[\"ai:author\"]\n",
    "        s = difflib.SequenceMatcher(None, input_a, input_b)\n",
    "        return s.find_longest_match(0, len(input_a), 0, len(input_b)).size\n",
    "    else:\n",
    "        return 0\n",
    "\n",
    "A['common_substring_count'] = A.apply(check_substrings, axis=1)"
   ]
  },
  {
   "cell_type": "code",
   "execution_count": null,
   "metadata": {},
   "outputs": [],
   "source": [
    "A[A.common_substring_count > 5].shape"
   ]
  },
  {
   "cell_type": "code",
   "execution_count": null,
   "metadata": {},
   "outputs": [],
   "source": []
  }
 ],
 "metadata": {
  "kernelspec": {
   "display_name": "notebooks-jUuXwkRi",
   "language": "python",
   "name": "python3"
  },
  "language_info": {
   "codemirror_mode": {
    "name": "ipython",
    "version": 3
   },
   "file_extension": ".py",
   "mimetype": "text/x-python",
   "name": "python",
   "nbconvert_exporter": "python",
   "pygments_lexer": "ipython3",
   "version": "3.10.12"
  }
 },
 "nbformat": 4,
 "nbformat_minor": 2
}
