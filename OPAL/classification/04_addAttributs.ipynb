{
 "cells": [],
 "metadata": {
  "kernelspec": {
   "display_name": "Data_analysis-ODc0IeOL",
   "language": "python",
   "name": "python3"
  },
  "language_info": {
   "name": "python",
   "version": "3.12.3"
  }
 },
 "nbformat": 4,
 "nbformat_minor": 5
}
