{
 "cells": [
  {
   "cell_type": "code",
   "execution_count": 45,
   "metadata": {},
   "outputs": [],
   "source": [
    "from pathlib import Path\n",
    "import pandas as pd"
   ]
  },
  {
   "cell_type": "code",
   "execution_count": 46,
   "metadata": {},
   "outputs": [],
   "source": [
    "data_folder =  \"/media/sz/Data/Connected_Lecturers/Opal/raw\"\n",
    "data_file_content = \"OPAL_content.p\"\n",
    "data_file_similarity = \"OPAL_similaritiy.p\"\n",
    "data_file_attrib = \"OPAL_files_attrib.p\"\n",
    "data_file_ai = \"OPAL_ai_meta.p\""
   ]
  },
  {
   "cell_type": "code",
   "execution_count": 47,
   "metadata": {},
   "outputs": [],
   "source": [
    "df_content = pd.read_pickle(Path(data_folder) / data_file_content)\n",
    "df_similarity = pd.read_pickle(Path(data_folder) / data_file_similarity)\n",
    "df_attrib = pd.read_pickle(Path(data_folder) / data_file_attrib)\n",
    "df_ai = pd.read_pickle(Path(data_folder) / data_file_ai)"
   ]
  },
  {
   "cell_type": "markdown",
   "metadata": {},
   "source": [
    "Wie viele verschiedene Dokumente gibt es in unserem Datensatz überhaupt?"
   ]
  },
  {
   "cell_type": "code",
   "execution_count": 48,
   "metadata": {},
   "outputs": [
    {
     "data": {
      "text/plain": [
       "5605"
      ]
     },
     "execution_count": 48,
     "metadata": {},
     "output_type": "execute_result"
    }
   ],
   "source": [
    "df_content[\"pipe:content_hash\"].unique().shape[0]"
   ]
  },
  {
   "cell_type": "markdown",
   "metadata": {},
   "source": [
    "Wieviele sind schlicht und einfach mehrfach vorhanen?"
   ]
  },
  {
   "cell_type": "code",
   "execution_count": 49,
   "metadata": {},
   "outputs": [
    {
     "data": {
      "text/plain": [
       "1757"
      ]
     },
     "execution_count": 49,
     "metadata": {},
     "output_type": "execute_result"
    }
   ],
   "source": [
    "df_content.shape[0] - df_content[\"pipe:content_hash\"].unique().shape[0]"
   ]
  },
  {
   "cell_type": "markdown",
   "metadata": {},
   "source": [
    "Ok, was ist das am häufigsten vorkommende Dokument?"
   ]
  },
  {
   "cell_type": "code",
   "execution_count": 50,
   "metadata": {},
   "outputs": [
    {
     "data": {
      "text/html": [
       "<table border=\"1\" class=\"dataframe\">\n",
       "  <thead>\n",
       "    <tr style=\"text-align: right;\">\n",
       "      <th></th>\n",
       "      <th>occurance_count</th>\n",
       "      <th>pipe:ID</th>\n",
       "      <th>opal:oer_permalink</th>\n",
       "    </tr>\n",
       "  </thead>\n",
       "  <tbody>\n",
       "    <tr>\n",
       "      <th>0</th>\n",
       "      <td>51</td>\n",
       "      <td>15kwF4Q161dAQ</td>\n",
       "      <td><a href=\"https://bildungsportal.sachsen.de/opal/oer/15kwF4Q161dAQ\" target=\"_blank\">https://bildungsportal.sachsen.de/opal/oer/15kwF4Q161dAQ</a></td>\n",
       "    </tr>\n",
       "    <tr>\n",
       "      <th>1</th>\n",
       "      <td>29</td>\n",
       "      <td>7pGAl0_xuWT0</td>\n",
       "      <td><a href=\"https://bildungsportal.sachsen.de/opal/oer/7pGAl0_xuWT0\" target=\"_blank\">https://bildungsportal.sachsen.de/opal/oer/7pGAl0_xuWT0</a></td>\n",
       "    </tr>\n",
       "    <tr>\n",
       "      <th>2</th>\n",
       "      <td>17</td>\n",
       "      <td>75-b_yi3C1Uk</td>\n",
       "      <td><a href=\"https://bildungsportal.sachsen.de/opal/oer/75-b_yi3C1Uk\" target=\"_blank\">https://bildungsportal.sachsen.de/opal/oer/75-b_yi3C1Uk</a></td>\n",
       "    </tr>\n",
       "    <tr>\n",
       "      <th>3</th>\n",
       "      <td>17</td>\n",
       "      <td>7i6iO956mG1U</td>\n",
       "      <td><a href=\"https://bildungsportal.sachsen.de/opal/oer/7i6iO956mG1U\" target=\"_blank\">https://bildungsportal.sachsen.de/opal/oer/7i6iO956mG1U</a></td>\n",
       "    </tr>\n",
       "    <tr>\n",
       "      <th>4</th>\n",
       "      <td>14</td>\n",
       "      <td>1Xjd0hs1bOxE</td>\n",
       "      <td><a href=\"https://bildungsportal.sachsen.de/opal/oer/1Xjd0hs1bOxE\" target=\"_blank\">https://bildungsportal.sachsen.de/opal/oer/1Xjd0hs1bOxE</a></td>\n",
       "    </tr>\n",
       "    <tr>\n",
       "      <th>5</th>\n",
       "      <td>13</td>\n",
       "      <td>109a1MYOVrJkY</td>\n",
       "      <td><a href=\"https://bildungsportal.sachsen.de/opal/oer/109a1MYOVrJkY\" target=\"_blank\">https://bildungsportal.sachsen.de/opal/oer/109a1MYOVrJkY</a></td>\n",
       "    </tr>\n",
       "    <tr>\n",
       "      <th>6</th>\n",
       "      <td>13</td>\n",
       "      <td>71MYNt2hZdq8</td>\n",
       "      <td><a href=\"https://bildungsportal.sachsen.de/opal/oer/71MYNt2hZdq8\" target=\"_blank\">https://bildungsportal.sachsen.de/opal/oer/71MYNt2hZdq8</a></td>\n",
       "    </tr>\n",
       "    <tr>\n",
       "      <th>7</th>\n",
       "      <td>13</td>\n",
       "      <td>10JnVEe72gCW8</td>\n",
       "      <td><a href=\"https://bildungsportal.sachsen.de/opal/oer/10JnVEe72gCW8\" target=\"_blank\">https://bildungsportal.sachsen.de/opal/oer/10JnVEe72gCW8</a></td>\n",
       "    </tr>\n",
       "    <tr>\n",
       "      <th>8</th>\n",
       "      <td>13</td>\n",
       "      <td>7jCaN9avlweU</td>\n",
       "      <td><a href=\"https://bildungsportal.sachsen.de/opal/oer/7jCaN9avlweU\" target=\"_blank\">https://bildungsportal.sachsen.de/opal/oer/7jCaN9avlweU</a></td>\n",
       "    </tr>\n",
       "    <tr>\n",
       "      <th>9</th>\n",
       "      <td>13</td>\n",
       "      <td>10pRfCF0klGfQ</td>\n",
       "      <td><a href=\"https://bildungsportal.sachsen.de/opal/oer/10pRfCF0klGfQ\" target=\"_blank\">https://bildungsportal.sachsen.de/opal/oer/10pRfCF0klGfQ</a></td>\n",
       "    </tr>\n",
       "  </tbody>\n",
       "</table>"
      ],
      "text/plain": [
       "<IPython.core.display.HTML object>"
      ]
     },
     "execution_count": 50,
     "metadata": {},
     "output_type": "execute_result"
    }
   ],
   "source": [
    "df_dublicates = df_content.groupby(\"pipe:content_hash\").agg(\n",
    "    occurance_count=('pipe:ID', 'count'), \n",
    "    first_file_ID=('pipe:ID', 'first'),\n",
    ").sort_values(\"occurance_count\", ascending=False).reset_index()\n",
    "\n",
    "df_dublicates.drop(['pipe:content_hash'], axis=1, inplace=True)\n",
    "df_dublicates.rename(columns={\"first_file_ID\": \"pipe:ID\"}, inplace=True)\n",
    "\n",
    "# Merge df_dublicates with df_attrib to get the opal:oer_permalink\n",
    "df_dublicates = df_dublicates.merge(df_attrib[[\"pipe:ID\", \"opal:oer_permalink\"]], on=\"pipe:ID\")\n",
    "\n",
    "from IPython.display import HTML\n",
    "HTML(df_dublicates.head(10).to_html(render_links=True, escape=False))"
   ]
  },
  {
   "cell_type": "code",
   "execution_count": 51,
   "metadata": {},
   "outputs": [
    {
     "data": {
      "text/html": [
       "<div>\n",
       "<style scoped>\n",
       "    .dataframe tbody tr th:only-of-type {\n",
       "        vertical-align: middle;\n",
       "    }\n",
       "\n",
       "    .dataframe tbody tr th {\n",
       "        vertical-align: top;\n",
       "    }\n",
       "\n",
       "    .dataframe thead th {\n",
       "        text-align: right;\n",
       "    }\n",
       "</style>\n",
       "<table border=\"1\" class=\"dataframe\">\n",
       "  <thead>\n",
       "    <tr style=\"text-align: right;\">\n",
       "      <th></th>\n",
       "      <th>ai:filename</th>\n",
       "      <th>ai:filename_similar</th>\n",
       "      <th>ai:similarity</th>\n",
       "    </tr>\n",
       "  </thead>\n",
       "  <tbody>\n",
       "    <tr>\n",
       "      <th>3663</th>\n",
       "      <td>15kwF4Q161dAQ</td>\n",
       "      <td>7FmgyULxEBVw</td>\n",
       "      <td>1.0</td>\n",
       "    </tr>\n",
       "    <tr>\n",
       "      <th>3664</th>\n",
       "      <td>15kwF4Q161dAQ</td>\n",
       "      <td>3Iuw6QCg_WnA</td>\n",
       "      <td>1.0</td>\n",
       "    </tr>\n",
       "    <tr>\n",
       "      <th>3665</th>\n",
       "      <td>15kwF4Q161dAQ</td>\n",
       "      <td>15-6ldnxFmNK0</td>\n",
       "      <td>1.0</td>\n",
       "    </tr>\n",
       "  </tbody>\n",
       "</table>\n",
       "</div>"
      ],
      "text/plain": [
       "        ai:filename ai:filename_similar  ai:similarity\n",
       "3663  15kwF4Q161dAQ        7FmgyULxEBVw            1.0\n",
       "3664  15kwF4Q161dAQ        3Iuw6QCg_WnA            1.0\n",
       "3665  15kwF4Q161dAQ       15-6ldnxFmNK0            1.0"
      ]
     },
     "execution_count": 51,
     "metadata": {},
     "output_type": "execute_result"
    }
   ],
   "source": [
    "df_similarity[df_similarity[\"ai:filename\"]==\"15kwF4Q161dAQ\"]"
   ]
  },
  {
   "cell_type": "code",
   "execution_count": 52,
   "metadata": {},
   "outputs": [
    {
     "data": {
      "text/html": [
       "<div>\n",
       "<style scoped>\n",
       "    .dataframe tbody tr th:only-of-type {\n",
       "        vertical-align: middle;\n",
       "    }\n",
       "\n",
       "    .dataframe tbody tr th {\n",
       "        vertical-align: top;\n",
       "    }\n",
       "\n",
       "    .dataframe thead th {\n",
       "        text-align: right;\n",
       "    }\n",
       "</style>\n",
       "<table border=\"1\" class=\"dataframe\">\n",
       "  <thead>\n",
       "    <tr style=\"text-align: right;\">\n",
       "      <th></th>\n",
       "      <th>ai:filename</th>\n",
       "      <th>ai:filename_similar</th>\n",
       "      <th>ai:similarity</th>\n",
       "    </tr>\n",
       "  </thead>\n",
       "  <tbody>\n",
       "    <tr>\n",
       "      <th>8784</th>\n",
       "      <td>7pGAl0_xuWT0</td>\n",
       "      <td>81AFVYAcaVK0</td>\n",
       "      <td>1.0</td>\n",
       "    </tr>\n",
       "    <tr>\n",
       "      <th>8785</th>\n",
       "      <td>7pGAl0_xuWT0</td>\n",
       "      <td>8MQZqtNpdHzc</td>\n",
       "      <td>1.0</td>\n",
       "    </tr>\n",
       "    <tr>\n",
       "      <th>8786</th>\n",
       "      <td>7pGAl0_xuWT0</td>\n",
       "      <td>56kAAIIIvFRc</td>\n",
       "      <td>1.0</td>\n",
       "    </tr>\n",
       "  </tbody>\n",
       "</table>\n",
       "</div>"
      ],
      "text/plain": [
       "       ai:filename ai:filename_similar  ai:similarity\n",
       "8784  7pGAl0_xuWT0        81AFVYAcaVK0            1.0\n",
       "8785  7pGAl0_xuWT0        8MQZqtNpdHzc            1.0\n",
       "8786  7pGAl0_xuWT0        56kAAIIIvFRc            1.0"
      ]
     },
     "execution_count": 52,
     "metadata": {},
     "output_type": "execute_result"
    }
   ],
   "source": [
    "df_similarity[df_similarity[\"ai:filename\"]==\"7pGAl0_xuWT0\"]"
   ]
  },
  {
   "cell_type": "markdown",
   "metadata": {},
   "source": [
    "Ok, also lasst uns die Dokument rauswerfen die eine Kopie sind."
   ]
  },
  {
   "cell_type": "code",
   "execution_count": 72,
   "metadata": {},
   "outputs": [
    {
     "data": {
      "text/plain": [
       "(2488, 3)"
      ]
     },
     "execution_count": 72,
     "metadata": {},
     "output_type": "execute_result"
    }
   ],
   "source": [
    "similarity_threshold = 0.9\n",
    "\n",
    "df_match = df_similarity[(df_similarity[\"ai:similarity\"]<0.9999999) & (df_similarity[\"ai:similarity\"]>similarity_threshold)]\n",
    "df_match.shape"
   ]
  },
  {
   "cell_type": "markdown",
   "metadata": {},
   "source": [
    "## Vorbereitung des Plots"
   ]
  },
  {
   "cell_type": "code",
   "execution_count": 73,
   "metadata": {},
   "outputs": [
    {
     "data": {
      "text/html": [
       "<table border=\"1\" class=\"dataframe\">\n",
       "  <thead>\n",
       "    <tr style=\"text-align: right;\">\n",
       "      <th></th>\n",
       "      <th>ai:filename</th>\n",
       "      <th>ai:filename_similar</th>\n",
       "      <th>ai:similarity</th>\n",
       "      <th>opal:oer_permalink_x</th>\n",
       "      <th>opal:oer_permalink_y</th>\n",
       "    </tr>\n",
       "  </thead>\n",
       "  <tbody>\n",
       "    <tr>\n",
       "      <th>0</th>\n",
       "      <td>4-dHpo4qmwVg</td>\n",
       "      <td>10-sCOfJIf7ag</td>\n",
       "      <td>0.926229</td>\n",
       "      <td><a href=\"https://bildungsportal.sachsen.de/opal/oer/4-dHpo4qmwVg\" target=\"_blank\">https://bildungsportal.sachsen.de/opal/oer/4-dHpo4qmwVg</a></td>\n",
       "      <td><a href=\"https://bildungsportal.sachsen.de/opal/oer/10-sCOfJIf7ag\" target=\"_blank\">https://bildungsportal.sachsen.de/opal/oer/10-sCOfJIf7ag</a></td>\n",
       "    </tr>\n",
       "    <tr>\n",
       "      <th>1</th>\n",
       "      <td>4-dHpo4qmwVg</td>\n",
       "      <td>10c0Y1nWRRmU8</td>\n",
       "      <td>0.916175</td>\n",
       "      <td><a href=\"https://bildungsportal.sachsen.de/opal/oer/4-dHpo4qmwVg\" target=\"_blank\">https://bildungsportal.sachsen.de/opal/oer/4-dHpo4qmwVg</a></td>\n",
       "      <td><a href=\"https://bildungsportal.sachsen.de/opal/oer/10c0Y1nWRRmU8\" target=\"_blank\">https://bildungsportal.sachsen.de/opal/oer/10c0Y1nWRRmU8</a></td>\n",
       "    </tr>\n",
       "    <tr>\n",
       "      <th>2</th>\n",
       "      <td>4-dHpo4qmwVg</td>\n",
       "      <td>4vv4Zb4dwl5U</td>\n",
       "      <td>0.912411</td>\n",
       "      <td><a href=\"https://bildungsportal.sachsen.de/opal/oer/4-dHpo4qmwVg\" target=\"_blank\">https://bildungsportal.sachsen.de/opal/oer/4-dHpo4qmwVg</a></td>\n",
       "      <td><a href=\"https://bildungsportal.sachsen.de/opal/oer/4vv4Zb4dwl5U\" target=\"_blank\">https://bildungsportal.sachsen.de/opal/oer/4vv4Zb4dwl5U</a></td>\n",
       "    </tr>\n",
       "    <tr>\n",
       "      <th>3</th>\n",
       "      <td>1mjbqKfwSW7U</td>\n",
       "      <td>1UOraoEiVqec</td>\n",
       "      <td>0.928287</td>\n",
       "      <td><a href=\"https://bildungsportal.sachsen.de/opal/oer/1mjbqKfwSW7U\" target=\"_blank\">https://bildungsportal.sachsen.de/opal/oer/1mjbqKfwSW7U</a></td>\n",
       "      <td><a href=\"https://bildungsportal.sachsen.de/opal/oer/1UOraoEiVqec\" target=\"_blank\">https://bildungsportal.sachsen.de/opal/oer/1UOraoEiVqec</a></td>\n",
       "    </tr>\n",
       "    <tr>\n",
       "      <th>4</th>\n",
       "      <td>1Qhnsa15Gixs</td>\n",
       "      <td>1rCuHnmnp2g4</td>\n",
       "      <td>0.954104</td>\n",
       "      <td><a href=\"https://bildungsportal.sachsen.de/opal/oer/1Qhnsa15Gixs\" target=\"_blank\">https://bildungsportal.sachsen.de/opal/oer/1Qhnsa15Gixs</a></td>\n",
       "      <td><a href=\"https://bildungsportal.sachsen.de/opal/oer/1rCuHnmnp2g4\" target=\"_blank\">https://bildungsportal.sachsen.de/opal/oer/1rCuHnmnp2g4</a></td>\n",
       "    </tr>\n",
       "    <tr>\n",
       "      <th>5</th>\n",
       "      <td>1UOraoEiVqec</td>\n",
       "      <td>1mjbqKfwSW7U</td>\n",
       "      <td>0.928287</td>\n",
       "      <td><a href=\"https://bildungsportal.sachsen.de/opal/oer/1UOraoEiVqec\" target=\"_blank\">https://bildungsportal.sachsen.de/opal/oer/1UOraoEiVqec</a></td>\n",
       "      <td><a href=\"https://bildungsportal.sachsen.de/opal/oer/1mjbqKfwSW7U\" target=\"_blank\">https://bildungsportal.sachsen.de/opal/oer/1mjbqKfwSW7U</a></td>\n",
       "    </tr>\n",
       "    <tr>\n",
       "      <th>6</th>\n",
       "      <td>13AX_MPrEYic</td>\n",
       "      <td>1BruMQFjEIRY</td>\n",
       "      <td>0.969270</td>\n",
       "      <td><a href=\"https://bildungsportal.sachsen.de/opal/oer/13AX_MPrEYic\" target=\"_blank\">https://bildungsportal.sachsen.de/opal/oer/13AX_MPrEYic</a></td>\n",
       "      <td><a href=\"https://bildungsportal.sachsen.de/opal/oer/1BruMQFjEIRY\" target=\"_blank\">https://bildungsportal.sachsen.de/opal/oer/1BruMQFjEIRY</a></td>\n",
       "    </tr>\n",
       "    <tr>\n",
       "      <th>7</th>\n",
       "      <td>13AX_MPrEYic</td>\n",
       "      <td>17n9nrGMxd_Ak</td>\n",
       "      <td>0.969270</td>\n",
       "      <td><a href=\"https://bildungsportal.sachsen.de/opal/oer/13AX_MPrEYic\" target=\"_blank\">https://bildungsportal.sachsen.de/opal/oer/13AX_MPrEYic</a></td>\n",
       "      <td><a href=\"https://bildungsportal.sachsen.de/opal/oer/17n9nrGMxd_Ak\" target=\"_blank\">https://bildungsportal.sachsen.de/opal/oer/17n9nrGMxd_Ak</a></td>\n",
       "    </tr>\n",
       "    <tr>\n",
       "      <th>8</th>\n",
       "      <td>13AX_MPrEYic</td>\n",
       "      <td>10XJHRtjohoeI</td>\n",
       "      <td>0.969270</td>\n",
       "      <td><a href=\"https://bildungsportal.sachsen.de/opal/oer/13AX_MPrEYic\" target=\"_blank\">https://bildungsportal.sachsen.de/opal/oer/13AX_MPrEYic</a></td>\n",
       "      <td><a href=\"https://bildungsportal.sachsen.de/opal/oer/10XJHRtjohoeI\" target=\"_blank\">https://bildungsportal.sachsen.de/opal/oer/10XJHRtjohoeI</a></td>\n",
       "    </tr>\n",
       "    <tr>\n",
       "      <th>9</th>\n",
       "      <td>1s-vtDJ00WzA</td>\n",
       "      <td>18r_JtdoG2RA</td>\n",
       "      <td>0.991046</td>\n",
       "      <td><a href=\"https://bildungsportal.sachsen.de/opal/oer/1s-vtDJ00WzA\" target=\"_blank\">https://bildungsportal.sachsen.de/opal/oer/1s-vtDJ00WzA</a></td>\n",
       "      <td><a href=\"https://bildungsportal.sachsen.de/opal/oer/18r_JtdoG2RA\" target=\"_blank\">https://bildungsportal.sachsen.de/opal/oer/18r_JtdoG2RA</a></td>\n",
       "    </tr>\n",
       "  </tbody>\n",
       "</table>"
      ],
      "text/plain": [
       "<IPython.core.display.HTML object>"
      ]
     },
     "execution_count": 73,
     "metadata": {},
     "output_type": "execute_result"
    }
   ],
   "source": [
    "df_connections = df_match.merge(df_attrib[[\"pipe:ID\", \"opal:oer_permalink\"]], right_on=\"pipe:ID\", left_on=\"ai:filename\").\\\n",
    "                    drop([\"pipe:ID\"], axis=1)\n",
    "df_connections = df_connections.merge(df_attrib[[\"pipe:ID\", \"opal:oer_permalink\"]], right_on=\"pipe:ID\", left_on=\"ai:filename_similar\").\\\n",
    "                    drop([\"pipe:ID\"], axis=1)\n",
    "\n",
    "HTML(df_connections.head(10).to_html(render_links=True, escape=False))"
   ]
  },
  {
   "cell_type": "code",
   "execution_count": 74,
   "metadata": {},
   "outputs": [
    {
     "data": {
      "text/html": [
       "<table border=\"1\" class=\"dataframe\">\n",
       "  <thead>\n",
       "    <tr style=\"text-align: right;\">\n",
       "      <th></th>\n",
       "      <th>pipe:ID</th>\n",
       "      <th>opal:oer_permalink</th>\n",
       "      <th>ai:author</th>\n",
       "      <th>ai:keywords</th>\n",
       "      <th>ai:dewey</th>\n",
       "      <th>dewey_major</th>\n",
       "    </tr>\n",
       "  </thead>\n",
       "  <tbody>\n",
       "    <tr>\n",
       "      <th>0</th>\n",
       "      <td>4-dHpo4qmwVg</td>\n",
       "      <td><a href=\"https://bildungsportal.sachsen.de/opal/oer/4-dHpo4qmwVg\" target=\"_blank\">https://bildungsportal.sachsen.de/opal/oer/4-dHpo4qmwVg</a></td>\n",
       "      <td></td>\n",
       "      <td>Endodontie, Zahne, Behandlung, Überkappung, Prognose</td>\n",
       "      <td>617.6</td>\n",
       "      <td>6.0</td>\n",
       "    </tr>\n",
       "    <tr>\n",
       "      <th>1</th>\n",
       "      <td>1mjbqKfwSW7U</td>\n",
       "      <td><a href=\"https://bildungsportal.sachsen.de/opal/oer/1mjbqKfwSW7U\" target=\"_blank\">https://bildungsportal.sachsen.de/opal/oer/1mjbqKfwSW7U</a></td>\n",
       "      <td>TU Dresden</td>\n",
       "      <td>E-Learning, TU Dresden, UrhWissG, Medienzentrum, §60a</td>\n",
       "      <td></td>\n",
       "      <td>NaN</td>\n",
       "    </tr>\n",
       "    <tr>\n",
       "      <th>2</th>\n",
       "      <td>1BruMQFjEIRY</td>\n",
       "      <td><a href=\"https://bildungsportal.sachsen.de/opal/oer/1BruMQFjEIRY\" target=\"_blank\">https://bildungsportal.sachsen.de/opal/oer/1BruMQFjEIRY</a></td>\n",
       "      <td>Medienzentrum</td>\n",
       "      <td>OPAL, TU-Dresden, Login, Portlet, Favoriten</td>\n",
       "      <td>005</td>\n",
       "      <td>0.0</td>\n",
       "    </tr>\n",
       "    <tr>\n",
       "      <th>3</th>\n",
       "      <td>1Qhnsa15Gixs</td>\n",
       "      <td><a href=\"https://bildungsportal.sachsen.de/opal/oer/1Qhnsa15Gixs\" target=\"_blank\">https://bildungsportal.sachsen.de/opal/oer/1Qhnsa15Gixs</a></td>\n",
       "      <td>TU Dresden Medienzentrum</td>\n",
       "      <td>Umfrage, Invote, E-Learning, TU Dresden, Sammlung</td>\n",
       "      <td>001</td>\n",
       "      <td>0.0</td>\n",
       "    </tr>\n",
       "    <tr>\n",
       "      <th>4</th>\n",
       "      <td>18r_JtdoG2RA</td>\n",
       "      <td><a href=\"https://bildungsportal.sachsen.de/opal/oer/18r_JtdoG2RA\" target=\"_blank\">https://bildungsportal.sachsen.de/opal/oer/18r_JtdoG2RA</a></td>\n",
       "      <td>Medienzentrum</td>\n",
       "      <td>OPAL, TU Dresden, E-Learning, Portlets, ZIH-Login</td>\n",
       "      <td>641</td>\n",
       "      <td>6.0</td>\n",
       "    </tr>\n",
       "    <tr>\n",
       "      <th>5</th>\n",
       "      <td>1UOraoEiVqec</td>\n",
       "      <td><a href=\"https://bildungsportal.sachsen.de/opal/oer/1UOraoEiVqec\" target=\"_blank\">https://bildungsportal.sachsen.de/opal/oer/1UOraoEiVqec</a></td>\n",
       "      <td>TU Dresden Medienzentrum</td>\n",
       "      <td>Urheberrecht, E-Learning, Quelle, Lizenz, OER</td>\n",
       "      <td>346</td>\n",
       "      <td>3.0</td>\n",
       "    </tr>\n",
       "    <tr>\n",
       "      <th>6</th>\n",
       "      <td>13AX_MPrEYic</td>\n",
       "      <td><a href=\"https://bildungsportal.sachsen.de/opal/oer/13AX_MPrEYic\" target=\"_blank\">https://bildungsportal.sachsen.de/opal/oer/13AX_MPrEYic</a></td>\n",
       "      <td>TU Dresden Medienzentrum</td>\n",
       "      <td>Kurs, Favoriten, Lehren, Lernen, OPAL</td>\n",
       "      <td>641</td>\n",
       "      <td>6.0</td>\n",
       "    </tr>\n",
       "    <tr>\n",
       "      <th>7</th>\n",
       "      <td>1s-vtDJ00WzA</td>\n",
       "      <td><a href=\"https://bildungsportal.sachsen.de/opal/oer/1s-vtDJ00WzA\" target=\"_blank\">https://bildungsportal.sachsen.de/opal/oer/1s-vtDJ00WzA</a></td>\n",
       "      <td>TU Dresden Medienzentrum</td>\n",
       "      <td>OPAL, TU Dresden, ZIH-Login, Teach & Learn, Catalogue</td>\n",
       "      <td>005</td>\n",
       "      <td>0.0</td>\n",
       "    </tr>\n",
       "    <tr>\n",
       "      <th>8</th>\n",
       "      <td>9KYncn6He4vc</td>\n",
       "      <td><a href=\"https://bildungsportal.sachsen.de/opal/oer/9KYncn6He4vc\" target=\"_blank\">https://bildungsportal.sachsen.de/opal/oer/9KYncn6He4vc</a></td>\n",
       "      <td>Anna Hagedorn</td>\n",
       "      <td>Tiere, Pflanzen, Wald, Kreuzworträtsel, Quiz</td>\n",
       "      <td>570</td>\n",
       "      <td>5.0</td>\n",
       "    </tr>\n",
       "    <tr>\n",
       "      <th>9</th>\n",
       "      <td>1fCUEOJoo3Hg</td>\n",
       "      <td><a href=\"https://bildungsportal.sachsen.de/opal/oer/1fCUEOJoo3Hg\" target=\"_blank\">https://bildungsportal.sachsen.de/opal/oer/1fCUEOJoo3Hg</a></td>\n",
       "      <td></td>\n",
       "      <td>Gradient, Lokale Extrema, Gradientenvektorfeld, Graphenfläche, Extrempunkte</td>\n",
       "      <td>51</td>\n",
       "      <td>5.0</td>\n",
       "    </tr>\n",
       "  </tbody>\n",
       "</table>"
      ],
      "text/plain": [
       "<IPython.core.display.HTML object>"
      ]
     },
     "execution_count": 74,
     "metadata": {},
     "output_type": "execute_result"
    }
   ],
   "source": [
    "set_IDs = set(df_match[\"ai:filename\"].values) | set(df_match[\"ai:filename_similar\"].values)\n",
    "\n",
    "df_net_attrib = df_attrib[df_attrib[\"pipe:ID\"].isin(set_IDs)][[\"pipe:ID\", \"opal:oer_permalink\"]]\n",
    "df_net_attrib = df_net_attrib.merge(df_ai[[\"pipe:ID\", \"ai:author\", \"ai:keywords\", \"ai:dewey\"]], on=\"pipe:ID\")\n",
    "\n",
    "def extract_major(dewey):\n",
    "    if dewey == \"\":\n",
    "        return np.nan\n",
    "    try:\n",
    "        return int(dewey[0])\n",
    "    except:\n",
    "        return np.nan\n",
    "\n",
    "df_net_attrib['dewey_major']=df_net_attrib['ai:dewey'].apply(extract_major)\n",
    "\n",
    "HTML(df_net_attrib.head(10).to_html(render_links=True, escape=False))"
   ]
  },
  {
   "cell_type": "code",
   "execution_count": 79,
   "metadata": {},
   "outputs": [],
   "source": [
    "from pyvis.network import Network\n",
    "import numpy as np\n",
    "from matplotlib import cm\n",
    "import matplotlib.colors as mcolors\n",
    "\n",
    "\n",
    "def create_similarity_network(data, attributes=None,similarity_threshold=0.5):\n",
    "\n",
    "    net = Network(height=\"750px\", width=\"100%\", bgcolor=\"#ffffff\", font_color=\"black\")\n",
    "    all_files = set(data['ai:filename'].unique()) | set(data['ai:filename_similar'].unique())\n",
    "    \n",
    "    # Farbpalette aus dem gewählten Farbschema generieren\n",
    "    colormap = cm.get_cmap(\"coolwarm\")\n",
    "    # Wir generieren 10 Farben (für Werte 0-9)\n",
    "    color_palette = [mcolors.rgb2hex(colormap(i/9)) for i in range(10)]\n",
    "\n",
    "    # Füge Knoten mit URLs hinzu\n",
    "    for file in all_files:\n",
    "        # Erstelle den HTML-Tooltip mit Link\n",
    "        attachment = attributes[attributes['pipe:ID']==file]\n",
    "        url = attachment['opal:oer_permalink'].values[0]\n",
    "        author = attachment['ai:author'].values[0]\n",
    "        dewey = attachment['ai:dewey'].values[0]\n",
    "        title = f\"\"\"\n",
    "            <div style='max-width:400px'>\n",
    "                <b>Datei:</b> {file}<br>\n",
    "                <b>Author:</b> {author}<br>\n",
    "                <b>Dewey:</b> {dewey}<br>\n",
    "                <b>Link:</b> <a href='{url}' target='_blank'>{url}</a>\n",
    "            </div>\n",
    "        \"\"\"\n",
    "\n",
    "        dewey_major = attachment['dewey_major'].values[0]\n",
    "        if np.isnan(dewey_major):\n",
    "            bg_color = '#000000'\n",
    "        else:\n",
    "            bg_color = color_palette[int(dewey_major)]            \n",
    "\n",
    "        color={\n",
    "             'background': bg_color,\n",
    "        } \n",
    "        size=20              \n",
    "\n",
    "        if author == \"\":\n",
    "            bd_color ='#FF5722'\n",
    "            color['border'] = bd_color\n",
    "        else:\n",
    "            color['border'] = bg_color\n",
    "\n",
    "        net.add_node(\n",
    "            file,\n",
    "            label=file,\n",
    "            title=title,\n",
    "            customProperties={'url': url},\n",
    "            size=17,\n",
    "            borderWidth = 1,\n",
    "            color=color\n",
    "        )\n",
    "\n",
    "    # Füge Kanten für Ähnlichkeiten über dem Schwellenwert hinzu\n",
    "    for _, row in data.iterrows():\n",
    "        if row['ai:similarity'] >= similarity_threshold:\n",
    "            # Berechne Kantenbreite basierend auf Ähnlichkeit (1-5 Pixel)\n",
    "            width = 1 + 4 * row['ai:similarity']\n",
    "            \n",
    "            color = '#000000'\n",
    "            \n",
    "            net.add_edge(\n",
    "                row['ai:filename'],\n",
    "                row['ai:filename_similar'],\n",
    "                value=width,\n",
    "                title=f\"Ähnlichkeit: {row['ai:similarity']:.2f}\",\n",
    "                color=color\n",
    "            )\n",
    "    \n",
    "    # Netzwerk-Optionen für bessere Darstellung\n",
    "    #net.toggle_physics(True)\n",
    "    #net.show_buttons(filter_=['physics'])\n",
    "        \n",
    "    return net"
   ]
  },
  {
   "cell_type": "code",
   "execution_count": 80,
   "metadata": {},
   "outputs": [
    {
     "name": "stderr",
     "output_type": "stream",
     "text": [
      "/tmp/ipykernel_925674/2177971914.py:13: MatplotlibDeprecationWarning: The get_cmap function was deprecated in Matplotlib 3.7 and will be removed in 3.11. Use ``matplotlib.colormaps[name]`` or ``matplotlib.colormaps.get_cmap()`` or ``pyplot.get_cmap()`` instead.\n",
      "  colormap = cm.get_cmap(\"coolwarm\")\n"
     ]
    },
    {
     "name": "stdout",
     "output_type": "stream",
     "text": [
      "similarity_network.html\n"
     ]
    }
   ],
   "source": [
    "net = create_similarity_network(df_match, df_net_attrib, similarity_threshold=0.5)\n",
    "net.show('similarity_network.html',  notebook=False)"
   ]
  }
 ],
 "metadata": {
  "kernelspec": {
   "display_name": "Data_analysis-ODc0IeOL",
   "language": "python",
   "name": "python3"
  },
  "language_info": {
   "codemirror_mode": {
    "name": "ipython",
    "version": 3
   },
   "file_extension": ".py",
   "mimetype": "text/x-python",
   "name": "python",
   "nbconvert_exporter": "python",
   "pygments_lexer": "ipython3",
   "version": "3.12.3"
  }
 },
 "nbformat": 4,
 "nbformat_minor": 2
}
